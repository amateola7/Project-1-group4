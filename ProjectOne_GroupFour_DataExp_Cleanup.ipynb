{
 "cells": [
  {
   "cell_type": "markdown",
   "metadata": {},
   "source": [
    "# Relationships Between World Diabetes Trends and Economic Changes  \n",
    "\n",
    "## UNCC Data Analytics and Visualization - Project 1\n",
    "\n",
    "### Fantastic Four - *Ayo, Mark, Neba, and Scott*\n",
    "\n",
    "\n",
    "# Data Preperation Notebook\n",
    "\n",
    "## Introduction\n",
    "\n",
    "For this project the team compared four economic indicators with diabetes trends over the period 1990 to 2014.  The diabetes trends were from the [Non-Communicable Dieases Risk Factor Collaboration (NCD-RisC)](http://ncdrisc.org/about-us.html).  This group of health scientist working with the World Health Organization has published data on risk factors at [http://ncdrisc.org/data-downloads.html](http://ncdrisc.org/data-downloads.html).  The team used this data to generate diabetes trends for 217 countries included in the datasets.  Trend data form BMI and Blood pressure were also included, but in order to keep the scope under control, the team has focused on diabetes trends. \n",
    "\n",
    "Each team member selected a data set from the World Bank or United Nations to compare with diabetes trends.  The four indicators selected are shown below.\n",
    "\n",
    "    * United Nations - Human Development index\n",
    "    * World Bank - Number of Mobile Subscriptions per 100 people\n",
    "    * World Bank - Access to electricity (% of population)\n",
    "    * World Bank - CPIA property rights and rule-based governance rating (1=low to 6=high)\n"
   ]
  },
  {
   "cell_type": "markdown",
   "metadata": {},
   "source": [
    "## Data Merging\n",
    "\n",
    "The World Bank indicators were retrieved using their API.  The NCD-RisC and United nations data were downloaded as CSV files."
   ]
  },
  {
   "cell_type": "code",
   "execution_count": 2,
   "metadata": {},
   "outputs": [],
   "source": [
    "import pandas as pd\n",
    "import numpy as np\n",
    "import matplotlib.pyplot as plt\n",
    "import seaborn as sns\n",
    "from WBlib import get_data\n",
    "sns.set()"
   ]
  },
  {
   "cell_type": "markdown",
   "metadata": {},
   "source": [
    "## Import NCD RisC Data"
   ]
  },
  {
   "cell_type": "code",
   "execution_count": 3,
   "metadata": {},
   "outputs": [],
   "source": [
    "DM='data/NCD_RisC_Lancet_2016_DM_age_standardised_countries.csv'\n",
    "BMI='data/NCD_RisC_Lancet_2017_BMI_age_standardised_countries.csv'\n",
    "BP='data/NCD_RisC_Lancet_2016_BP_age_standardised_countries.csv'\n",
    "\n",
    "DM=pd.read_csv(DM,encoding='iso-8859-1')\n",
    "BMI=pd.read_csv(BMI,encoding='iso-8859-1')\n",
    "BP=pd.read_csv(BP,encoding='iso-8859-1')\n",
    "\n",
    "Health_Data = pd.merge(DM,BMI,on=['Country/Region/World','ISO','Sex','Year'])\n",
    "Health_Data = Health_Data.merge(BP,on=['Country/Region/World','ISO','Sex','Year'])"
   ]
  },
  {
   "cell_type": "markdown",
   "metadata": {},
   "source": [
    "## Import World Bank Data"
   ]
  },
  {
   "cell_type": "markdown",
   "metadata": {},
   "source": [
    "__This pull from the Worldbank can take a long time.  The API splits the data into pages,and each page requires a new request. It can take several minutes to pull down all the data for 24 years even with only three indicators.__"
   ]
  },
  {
   "cell_type": "code",
   "execution_count": 4,
   "metadata": {},
   "outputs": [],
   "source": [
    "\n",
    "\n",
    "#\"Scott - mobile phone subscriptions per 100 people\"\n",
    "indicator1 = \"IT.CEL.SETS.P2\"\n",
    "#Ayo - Access to electricity (% of population)\n",
    "indicator2 = \"EG.ELC.ACCS.ZS\"\n",
    "#Neba - CPIA property rights and rule-based governance rating (1=low to 6=high)\n",
    "indicator3 = \"IQ.CPA.PROP.XQ\"\n",
    "#Choosing years from 1990:2014\n",
    "years=\"1990:2014\"\n",
    "\n",
    "mobiles = get_data(indicator1, years, 'all')\n",
    "electricity = get_data(indicator2, years, 'all')\n",
    "governance = get_data(indicator3, years, 'all')\n",
    "\n",
    "WBindicators = pd.merge(mobiles,electricity, on=['ISO','Year'])\n",
    "WBindicators = WBindicators.merge(governance, on=['ISO','Year'])\n",
    "WBindicators['Year'] = pd.to_numeric(WBindicators['Year'])\n",
    "WBindicators.to_csv('data/indicators.csv')"
   ]
  },
  {
   "cell_type": "markdown",
   "metadata": {},
   "source": [
    "__Start execution here with saved data to avoid long pull__"
   ]
  },
  {
   "cell_type": "code",
   "execution_count": 5,
   "metadata": {},
   "outputs": [],
   "source": [
    "WBindicators = pd.read_csv('data/indicators.csv')"
   ]
  },
  {
   "cell_type": "markdown",
   "metadata": {},
   "source": [
    "## Import UN Human Development Index Data"
   ]
  },
  {
   "cell_type": "code",
   "execution_count": 6,
   "metadata": {},
   "outputs": [],
   "source": [
    "hdi = pd.read_csv('data/Human development index (HDI).csv',encoding='iso-8859-1')\n",
    "\n",
    "hdi['Country'] = hdi['Country'].apply(str.strip)\n",
    "codes = pd.read_csv('data/countries_codes_and_coordinates.csv')\n",
    "codes=codes[['Country', 'Alpha-3 code']]\n",
    "hdi = hdi.merge(codes, on='Country')\n",
    "hdi_years = [ '1990', '1991', '1992', '1993', '1994',\n",
    "       '1995', '1996', '1997', '1998', '1999', '2000', '2001', '2002', '2003',\n",
    "       '2004', '2005', '2006', '2007', '2008', '2009', '2010', '2011', '2012',\n",
    "       '2013', '2014', '2015', '2016', '2017']\n",
    "hdi = hdi.melt(value_vars= hdi_years, id_vars=['Country','Alpha-3 code','HDI Rank (2017)'])\n",
    "hdi.columns=['Country','ISO','HDIrank2017','Year','HDIvalue']\n",
    "\n",
    "hdi_quint = {}\n",
    "\n",
    "for y in hdi_years:\n",
    "    #print(type(y))\n",
    "    tmp = hdi.groupby(['Year']).get_group(y)\n",
    "    tmp = tmp[['HDIvalue']]\n",
    "    tmp.columns=[f'HDI {y}']\n",
    "    hdi_quint[y] = tmp.sort_values(f'HDI {y}',ascending=True).quantile([0.2,0.4,0.6, 0.8])\n",
    "    \n",
    "for y in hdi_years:\n",
    "    hdi_quint[y]['bin']= 10 * (hdi_quint[y].index) / 2\n",
    "\n",
    "# Convert Dictionary to dataframe\n",
    "hdi_quint = (pd.concat(hdi_quint, sort=False)\n",
    "        .reset_index(level=1, drop=True)\n",
    "        .rename_axis('Year')\n",
    "        .reset_index()\n",
    ")\n",
    "\n",
    "HDI_quint_grp_df = hdi_quint.groupby(['bin']).sum().head(10)\n",
    "\n",
    "# Flip the data frame back over to get the years as columns. \n",
    "HDI_quint_grp_df = HDI_quint_grp_df.reset_index()\n",
    "HDI_quint_grp_df = HDI_quint_grp_df.set_index('bin').T\n",
    "\n",
    "# Set up seq as the merge variable in the quint file.\n",
    "HDI_quint_grp_df = HDI_quint_grp_df.reset_index()\n",
    "HDI_quint_grp_df = HDI_quint_grp_df.rename_axis('seq',axis=0)\n",
    "\n",
    "HDI_quint_grp_df.columns = ['Year in Text', 'Cut_1', 'Cut_2', 'Cut_3', 'Cut_4']\n",
    "\n",
    "# Set up seq as the merge variable in the years file to use as colums in the quint file.\n",
    "# I gave up on trying to change the text string that included years in the quint file.  \n",
    "# I'm seriously embarrased at the round about way my code is getting the simplest stuff done.\n",
    "hdi_years_tall_pd = pd.DataFrame(data = hdi_years, columns = ['Year'])\n",
    "hdi_years_tall_pd = hdi_years_tall_pd.rename_axis('seq',axis=0)\n",
    "\n",
    "# Merge years into the quint group file. \n",
    "HDI_quint_grp_df = HDI_quint_grp_df.merge(hdi_years_tall_pd, left_on='seq', right_on='seq', how = 'outer')\n",
    "\n",
    "# Merge the quint group with the main dataset you created yesterday. \n",
    "hdi = hdi.merge(HDI_quint_grp_df, left_on='Year', right_on='Year', how = 'outer')\n",
    "\n",
    "def binning(row):\n",
    "    if   row[4] != 'NaN':\n",
    "        if row[4] < row[6]:\n",
    "            return 1\n",
    "        elif  row[4] < row[7]:\n",
    "            return 2\n",
    "        elif  row[4] < row[8]:\n",
    "            return 3\n",
    "        elif  row[4] < row[9]:\n",
    "            return 4\n",
    "        elif  row[4] <= 1.0:\n",
    "            return 5\n",
    "        else:\n",
    "            return 'NaN'\n",
    "        \n",
    "hdi['bins'] = hdi.apply(lambda row : binning(row),axis=1) \n",
    "\n",
    "hdi['Year'] = pd.to_numeric(hdi['Year'])\n",
    "hdi['ISO'] = hdi['ISO'].apply(lambda x : x[2:5])"
   ]
  },
  {
   "cell_type": "markdown",
   "metadata": {},
   "source": [
    "## Merge HDI and WB Datasets and Save to File"
   ]
  },
  {
   "cell_type": "code",
   "execution_count": 7,
   "metadata": {},
   "outputs": [
    {
     "data": {
      "text/html": [
       "<div>\n",
       "<style scoped>\n",
       "    .dataframe tbody tr th:only-of-type {\n",
       "        vertical-align: middle;\n",
       "    }\n",
       "\n",
       "    .dataframe tbody tr th {\n",
       "        vertical-align: top;\n",
       "    }\n",
       "\n",
       "    .dataframe thead th {\n",
       "        text-align: right;\n",
       "    }\n",
       "</style>\n",
       "<table border=\"1\" class=\"dataframe\">\n",
       "  <thead>\n",
       "    <tr style=\"text-align: right;\">\n",
       "      <th></th>\n",
       "      <th>Country</th>\n",
       "      <th>ISO</th>\n",
       "      <th>HDIrank2017</th>\n",
       "      <th>Year</th>\n",
       "      <th>HDIvalue</th>\n",
       "      <th>Year in Text</th>\n",
       "      <th>Cut_1</th>\n",
       "      <th>Cut_2</th>\n",
       "      <th>Cut_3</th>\n",
       "      <th>Cut_4</th>\n",
       "      <th>bins</th>\n",
       "      <th>Unnamed: 0</th>\n",
       "      <th>IT.CEL.SETS.P2</th>\n",
       "      <th>EG.ELC.ACCS.ZS</th>\n",
       "      <th>IQ.CPA.PROP.XQ</th>\n",
       "    </tr>\n",
       "  </thead>\n",
       "  <tbody>\n",
       "    <tr>\n",
       "      <th>0</th>\n",
       "      <td>Afghanistan</td>\n",
       "      <td>AFG</td>\n",
       "      <td>168</td>\n",
       "      <td>1990</td>\n",
       "      <td>NaN</td>\n",
       "      <td>HDI 1990</td>\n",
       "      <td>0.4126</td>\n",
       "      <td>0.5804</td>\n",
       "      <td>0.6712</td>\n",
       "      <td>0.7448</td>\n",
       "      <td>NaN</td>\n",
       "      <td>24</td>\n",
       "      <td>0.000000</td>\n",
       "      <td>0.010000</td>\n",
       "      <td>NaN</td>\n",
       "    </tr>\n",
       "    <tr>\n",
       "      <th>1</th>\n",
       "      <td>Albania</td>\n",
       "      <td>ALB</td>\n",
       "      <td>68</td>\n",
       "      <td>1990</td>\n",
       "      <td>0.645</td>\n",
       "      <td>HDI 1990</td>\n",
       "      <td>0.4126</td>\n",
       "      <td>0.5804</td>\n",
       "      <td>0.6712</td>\n",
       "      <td>0.7448</td>\n",
       "      <td>3</td>\n",
       "      <td>49</td>\n",
       "      <td>0.000000</td>\n",
       "      <td>100.000000</td>\n",
       "      <td>NaN</td>\n",
       "    </tr>\n",
       "    <tr>\n",
       "      <th>2</th>\n",
       "      <td>Algeria</td>\n",
       "      <td>DZA</td>\n",
       "      <td>85</td>\n",
       "      <td>1990</td>\n",
       "      <td>0.577</td>\n",
       "      <td>HDI 1990</td>\n",
       "      <td>0.4126</td>\n",
       "      <td>0.5804</td>\n",
       "      <td>0.6712</td>\n",
       "      <td>0.7448</td>\n",
       "      <td>2</td>\n",
       "      <td>74</td>\n",
       "      <td>0.001814</td>\n",
       "      <td>98.271378</td>\n",
       "      <td>NaN</td>\n",
       "    </tr>\n",
       "    <tr>\n",
       "      <th>3</th>\n",
       "      <td>Andorra</td>\n",
       "      <td>AND</td>\n",
       "      <td>35</td>\n",
       "      <td>1990</td>\n",
       "      <td>NaN</td>\n",
       "      <td>HDI 1990</td>\n",
       "      <td>0.4126</td>\n",
       "      <td>0.5804</td>\n",
       "      <td>0.6712</td>\n",
       "      <td>0.7448</td>\n",
       "      <td>NaN</td>\n",
       "      <td>124</td>\n",
       "      <td>0.000000</td>\n",
       "      <td>100.000000</td>\n",
       "      <td>NaN</td>\n",
       "    </tr>\n",
       "    <tr>\n",
       "      <th>4</th>\n",
       "      <td>Angola</td>\n",
       "      <td>AGO</td>\n",
       "      <td>147</td>\n",
       "      <td>1990</td>\n",
       "      <td>NaN</td>\n",
       "      <td>HDI 1990</td>\n",
       "      <td>0.4126</td>\n",
       "      <td>0.5804</td>\n",
       "      <td>0.6712</td>\n",
       "      <td>0.7448</td>\n",
       "      <td>NaN</td>\n",
       "      <td>149</td>\n",
       "      <td>0.000000</td>\n",
       "      <td>11.397808</td>\n",
       "      <td>NaN</td>\n",
       "    </tr>\n",
       "  </tbody>\n",
       "</table>\n",
       "</div>"
      ],
      "text/plain": [
       "       Country  ISO  HDIrank2017  Year  HDIvalue Year in Text   Cut_1   Cut_2  \\\n",
       "0  Afghanistan  AFG          168  1990       NaN     HDI 1990  0.4126  0.5804   \n",
       "1      Albania  ALB           68  1990     0.645     HDI 1990  0.4126  0.5804   \n",
       "2      Algeria  DZA           85  1990     0.577     HDI 1990  0.4126  0.5804   \n",
       "3      Andorra  AND           35  1990       NaN     HDI 1990  0.4126  0.5804   \n",
       "4       Angola  AGO          147  1990       NaN     HDI 1990  0.4126  0.5804   \n",
       "\n",
       "    Cut_3   Cut_4 bins  Unnamed: 0  IT.CEL.SETS.P2  EG.ELC.ACCS.ZS  \\\n",
       "0  0.6712  0.7448  NaN          24        0.000000        0.010000   \n",
       "1  0.6712  0.7448    3          49        0.000000      100.000000   \n",
       "2  0.6712  0.7448    2          74        0.001814       98.271378   \n",
       "3  0.6712  0.7448  NaN         124        0.000000      100.000000   \n",
       "4  0.6712  0.7448  NaN         149        0.000000       11.397808   \n",
       "\n",
       "   IQ.CPA.PROP.XQ  \n",
       "0             NaN  \n",
       "1             NaN  \n",
       "2             NaN  \n",
       "3             NaN  \n",
       "4             NaN  "
      ]
     },
     "execution_count": 7,
     "metadata": {},
     "output_type": "execute_result"
    }
   ],
   "source": [
    "economic_data = pd.merge(hdi,WBindicators,on=['ISO','Year'])\n",
    "economic_data.head()"
   ]
  },
  {
   "cell_type": "code",
   "execution_count": 8,
   "metadata": {},
   "outputs": [],
   "source": [
    "economic_data.to_csv('data/combined_economic_data.csv')"
   ]
  },
  {
   "cell_type": "code",
   "execution_count": 9,
   "metadata": {},
   "outputs": [],
   "source": [
    "Health_Data_Men = Health_Data.groupby('Sex').get_group('Men')\n",
    "Health_Data_Women = Health_Data.groupby('Sex').get_group('Women')"
   ]
  },
  {
   "cell_type": "code",
   "execution_count": 10,
   "metadata": {},
   "outputs": [],
   "source": [
    "Health_Data_Men = Health_Data_Men[Health_Data_Men.columns[0:6]]\n",
    "Health_Data_Women = Health_Data_Women[Health_Data_Women.columns[0:6]]"
   ]
  },
  {
   "cell_type": "markdown",
   "metadata": {},
   "source": [
    "## Finally Merge Health and Economic Data"
   ]
  },
  {
   "cell_type": "code",
   "execution_count": 11,
   "metadata": {},
   "outputs": [],
   "source": [
    "all_data = Health_Data_Men.merge(economic_data,on=['ISO','Year'])\n",
    "all_data = all_data[all_data.columns[1:]]\n",
    "all_data.to_csv('data/all_data.csv')"
   ]
  }
 ],
 "metadata": {
  "kernelspec": {
   "display_name": "Python 3",
   "language": "python",
   "name": "python3"
  },
  "language_info": {
   "codemirror_mode": {
    "name": "ipython",
    "version": 3
   },
   "file_extension": ".py",
   "mimetype": "text/x-python",
   "name": "python",
   "nbconvert_exporter": "python",
   "pygments_lexer": "ipython3",
   "version": "3.7.3"
  }
 },
 "nbformat": 4,
 "nbformat_minor": 2
}
