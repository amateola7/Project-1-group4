{
 "cells": [
  {
   "cell_type": "code",
   "execution_count": 1,
   "metadata": {},
   "outputs": [],
   "source": [
    "import requests\n",
    "import json\n",
    "def get_data(off=0):\n",
    "    datasets = []\n",
    "    catalog = \"https://datacatalog.worldbank.org/api/3/action/current_package_list_with_resources?limit=20&offset={off}\"\n",
    "    results = requests.get(catalog)\n",
    "    if (results.status_code != 200):\n",
    "        return 0\n",
    "    else:\n",
    "        results = results.json()\n",
    "        for res in results['result'][0]:\n",
    "            datasets.append([res['id'],res['last_update'],res['title']])\n",
    "        return datasets\n"
   ]
  },
  {
   "cell_type": "code",
   "execution_count": 23,
   "metadata": {},
   "outputs": [
    {
     "data": {
      "text/plain": [
       "dict_keys(['id', 'nid', 'name', 'title', 'body', 'type', 'topic', 'granularity', 'economy_coverage', 'languages_supported', 'contact_email', 'gp&ccsas', 'parent_catalog_title', 'release_date', 'last_update', 'source_type', 'source', 'geographical_coverage', 'tags', 'reference_system', 'created', 'last_modified', 'resources'])"
      ]
     },
     "execution_count": 23,
     "metadata": {},
     "output_type": "execute_result"
    }
   ],
   "source": [
    "results['result'][0][0].keys()"
   ]
  },
  {
   "cell_type": "code",
   "execution_count": 37,
   "metadata": {},
   "outputs": [],
   "source": [
    "for x in range(0,2000,20):\n",
    "    l = get_data(x)\n",
    "    if l == -1:\n",
    "        break\n",
    "    else:\n",
    "        for i in l:\n",
    "            print(i) if \"undernourishment\" in i else next"
   ]
  },
  {
   "cell_type": "code",
   "execution_count": 2,
   "metadata": {},
   "outputs": [
    {
     "data": {
      "text/plain": [
       "['a3dd875a-1e48-42bd-a0f7-8d2bff2db0ab\\t2019-04-18 03:00:03\\tIFC Subscriptions and Voting Power of Member Countries',\n",
       " '341cce64-5667-4b2d-8711-8b770b78d0a1\\t2019-04-18 08:10:06\\tIFC Advisory Services Projects',\n",
       " '2cba7a96-4216-4ada-b121-077406326b50\\t2019-04-18 07:10:48\\tIFC Investment Services Projects',\n",
       " '2e93a975-8c5e-4488-80a5-ad8b5c1c284d\\t2019-04-18 03:00:00\\tIBRD Subscriptions and Voting Power of Member Countries',\n",
       " 'ea228c56-8adc-4406-8fd9-655f4ccb3a71\\t2014-10-23 09:10:51\\tNigeria - Subsidy Reinvestment and Empowerment Programme Maternal and Child Health Initiative Impact Evaluation (SURE-P MCH) 2013',\n",
       " 'e3194fb9-557d-45aa-8366-dc5024b80d27\\t2017-12-06 15:59:55\\tNigeria - Subsidy Reinvestment and Empowerment Programme Maternal and Child Health Initiative Impact Evaluation (SURE-P MCH) 2014 - 2015',\n",
       " '2b6afce5-85b6-48da-84e7-4a885554e165\\t2017-12-07 15:11:21\\tNigeria - Subsidy Reinvestment and Empowerment Programme Maternal and Child Health Initiative Impact Evaluation (SURE-P MCH) 2016',\n",
       " '31540f00-a4d7-4e46-985a-58a898c33348\\t2019-04-15 07:51:52\\tMIGA Issued Projects',\n",
       " '6b52c1d0-a0f6-42d8-b097-0d21a84af0a4\\t2019-04-14 03:00:02\\tIDA Voting Power of Member Countries',\n",
       " '1db33500-1ae0-452f-82cf-e0de96d4b739\\t2018-02-21 00:00:00\\tPakistan – Biomass Mapping',\n",
       " '0c7d8770-02f3-4627-919d-99f5dd668f1f\\t2019-04-09 11:52:08\\tHistorical IBRD Balance Sheets Data',\n",
       " '39164e45-8e67-4905-bd07-b50f99ae7bd6\\t2019-04-09 11:49:42\\tHistorical IBRD Income Statements Data',\n",
       " 'f81cdae3-6f39-46c1-a8e0-e6869a830aa0\\t2019-04-10 04:40:59\\tIDA Statement Of Credits and Grants - Historical Data',\n",
       " '3465bedb-70e5-4287-9f1d-15b5ae9071a2\\t2019-04-09 02:33:22\\tCorporate Procurement Contract Awards',\n",
       " '5f7f3c4c-ec2f-4b83-9e47-741b26c36655\\t2019-04-10 05:17:48\\tIBRD Statement Of Loans - Historical Data',\n",
       " 'c039fbee-6b6d-4abd-ae30-061e86a3f552\\t2019-04-10 04:37:15\\tIDA Statement of Credits and Grants  - Latest Available Snapshot',\n",
       " 'd6148291-d5e3-473c-bcf1-6982fba909b0\\t2019-04-10 05:10:15\\tIBRD Statement of Loans - Latest Available Snapshot',\n",
       " 'b10f79ad-df9c-4ab7-bdd3-6de2352344b1\\t2019-04-09 12:10:49\\tHistorical IDA Balance Sheets Data',\n",
       " 'c683f4a5-e00a-42fc-afad-6eacfcd16107\\t2019-04-09 11:59:59\\tHistorical IDA Income Statements Data',\n",
       " 'cddeab43-ed9b-4428-9f78-0838fd9d5f99\\t2019-04-11 16:57:10\\tPeru - Enterprise Survey 2006-2017']"
      ]
     },
     "execution_count": 2,
     "metadata": {},
     "output_type": "execute_result"
    }
   ],
   "source": [
    "get_data(60)"
   ]
  },
  {
   "cell_type": "code",
   "execution_count": null,
   "metadata": {},
   "outputs": [],
   "source": []
  }
 ],
 "metadata": {
  "kernelspec": {
   "display_name": "Python 3",
   "language": "python",
   "name": "python3"
  },
  "language_info": {
   "codemirror_mode": {
    "name": "ipython",
    "version": 3
   },
   "file_extension": ".py",
   "mimetype": "text/x-python",
   "name": "python",
   "nbconvert_exporter": "python",
   "pygments_lexer": "ipython3",
   "version": "3.7.3"
  }
 },
 "nbformat": 4,
 "nbformat_minor": 2
}
