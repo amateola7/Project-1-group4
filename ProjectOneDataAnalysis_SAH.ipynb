{
 "cells": [
  {
   "cell_type": "markdown",
   "metadata": {},
   "source": [
    "# Project One - Fantastic Four"
   ]
  },
  {
   "cell_type": "code",
   "execution_count": 7,
   "metadata": {},
   "outputs": [],
   "source": [
    "import pandas as pd\n",
    "import numpy as np\n",
    "import matplotlib.pyplot as plt\n",
    "import seaborn as sns\n",
    "sns.set()"
   ]
  },
  {
   "cell_type": "code",
   "execution_count": 8,
   "metadata": {},
   "outputs": [],
   "source": [
    "titles = {\"IT.CEL.SETS.P2\":\"mobile phone subscriptions per 100 people\",\n",
    "\"EG.ELC.ACCS.ZS\":\"Access to electricity (% of population)\",\n",
    "\"IQ.CPA.PROP.XQ\":\"CPIA property rights and rule-based governance rating (1=low to 6=high)\"}\n",
    "#1990:2017 data\n",
    "indicators = pd.read_pickle('data/indicators.pkl')\n",
    "indicators['Year'] = pd.to_numeric(indicators['Year'])\n",
    "df_allData = pd.read_pickle('data/df_allData.pkl')"
   ]
  },
  {
   "cell_type": "code",
   "execution_count": 21,
   "metadata": {},
   "outputs": [
    {
     "data": {
      "text/html": [
       "<div>\n",
       "<style scoped>\n",
       "    .dataframe tbody tr th:only-of-type {\n",
       "        vertical-align: middle;\n",
       "    }\n",
       "\n",
       "    .dataframe tbody tr th {\n",
       "        vertical-align: top;\n",
       "    }\n",
       "\n",
       "    .dataframe thead th {\n",
       "        text-align: right;\n",
       "    }\n",
       "</style>\n",
       "<table border=\"1\" class=\"dataframe\">\n",
       "  <thead>\n",
       "    <tr style=\"text-align: right;\">\n",
       "      <th></th>\n",
       "      <th>ISO</th>\n",
       "      <th>Year</th>\n",
       "      <th>IT.CEL.SETS.P2</th>\n",
       "      <th>EG.ELC.ACCS.ZS</th>\n",
       "      <th>IQ.CPA.PROP.XQ</th>\n",
       "    </tr>\n",
       "  </thead>\n",
       "  <tbody>\n",
       "    <tr>\n",
       "      <th>3</th>\n",
       "      <td>AFG</td>\n",
       "      <td>2014</td>\n",
       "      <td>56.191333</td>\n",
       "      <td>89.500000</td>\n",
       "      <td>1.5</td>\n",
       "    </tr>\n",
       "    <tr>\n",
       "      <th>3839</th>\n",
       "      <td>NRU</td>\n",
       "      <td>2014</td>\n",
       "      <td>NaN</td>\n",
       "      <td>99.172058</td>\n",
       "      <td>None</td>\n",
       "    </tr>\n",
       "    <tr>\n",
       "      <th>3867</th>\n",
       "      <td>NPL</td>\n",
       "      <td>2014</td>\n",
       "      <td>81.280740</td>\n",
       "      <td>84.900000</td>\n",
       "      <td>3</td>\n",
       "    </tr>\n",
       "    <tr>\n",
       "      <th>3895</th>\n",
       "      <td>NLD</td>\n",
       "      <td>2014</td>\n",
       "      <td>115.824428</td>\n",
       "      <td>100.000000</td>\n",
       "      <td>None</td>\n",
       "    </tr>\n",
       "    <tr>\n",
       "      <th>3923</th>\n",
       "      <td>NCL</td>\n",
       "      <td>2014</td>\n",
       "      <td>91.564123</td>\n",
       "      <td>100.000000</td>\n",
       "      <td>None</td>\n",
       "    </tr>\n",
       "  </tbody>\n",
       "</table>\n",
       "</div>"
      ],
      "text/plain": [
       "      ISO  Year  IT.CEL.SETS.P2  EG.ELC.ACCS.ZS IQ.CPA.PROP.XQ\n",
       "3     AFG  2014       56.191333       89.500000            1.5\n",
       "3839  NRU  2014             NaN       99.172058           None\n",
       "3867  NPL  2014       81.280740       84.900000              3\n",
       "3895  NLD  2014      115.824428      100.000000           None\n",
       "3923  NCL  2014       91.564123      100.000000           None"
      ]
     },
     "execution_count": 21,
     "metadata": {},
     "output_type": "execute_result"
    }
   ],
   "source": [
    "indicators.sort_values(['Year']).head()\n",
    "#sns.scatterplot(indicators['Year'],indicators['EG.ELC.ACCS.ZS'])"
   ]
  },
  {
   "cell_type": "code",
   "execution_count": 10,
   "metadata": {},
   "outputs": [
    {
     "data": {
      "text/html": [
       "<div>\n",
       "<style scoped>\n",
       "    .dataframe tbody tr th:only-of-type {\n",
       "        vertical-align: middle;\n",
       "    }\n",
       "\n",
       "    .dataframe tbody tr th {\n",
       "        vertical-align: top;\n",
       "    }\n",
       "\n",
       "    .dataframe thead th {\n",
       "        text-align: right;\n",
       "    }\n",
       "</style>\n",
       "<table border=\"1\" class=\"dataframe\">\n",
       "  <thead>\n",
       "    <tr style=\"text-align: right;\">\n",
       "      <th></th>\n",
       "      <th>Country/Region/World</th>\n",
       "      <th>ISO</th>\n",
       "      <th>Sex</th>\n",
       "      <th>Year</th>\n",
       "      <th>Age-standardised diabetes prevalence</th>\n",
       "      <th>Lower 95% uncertainty interval</th>\n",
       "      <th>Upper 95% uncertainty interval</th>\n",
       "      <th>Mean BMI</th>\n",
       "      <th>Mean BMI lower 95% uncertainty interval</th>\n",
       "      <th>Mean BMI upper 95% uncertainty interval</th>\n",
       "      <th>...</th>\n",
       "      <th>Prevalence of BMI &gt;=40 kg/m² upper 95% uncertainty interval</th>\n",
       "      <th>Mean systolic blood pressure (mmHg)</th>\n",
       "      <th>Mean systolic blood pressure lower 95% uncertainty interval (mmHg)</th>\n",
       "      <th>Mean systolic blood pressure upper 95% uncertainty interval (mmHg)</th>\n",
       "      <th>Mean diastolic blood pressure (mmHg)</th>\n",
       "      <th>Mean diastolic blood pressure lower 95% uncertainty interval (mmHg)</th>\n",
       "      <th>Mean diastolic blood pressure upper 95% uncertainty interval (mmHg)</th>\n",
       "      <th>Prevalence of raised blood pressure</th>\n",
       "      <th>Prevalence of raised blood pressure lower 95% uncertainty interval</th>\n",
       "      <th>Prevalence of raised blood pressure upper 95% uncertainty interval</th>\n",
       "    </tr>\n",
       "  </thead>\n",
       "  <tbody>\n",
       "    <tr>\n",
       "      <th>0</th>\n",
       "      <td>Afghanistan</td>\n",
       "      <td>AFG</td>\n",
       "      <td>Men</td>\n",
       "      <td>1980</td>\n",
       "      <td>0.044712</td>\n",
       "      <td>0.015339</td>\n",
       "      <td>0.094918</td>\n",
       "      <td>19.532923</td>\n",
       "      <td>17.107774</td>\n",
       "      <td>22.010869</td>\n",
       "      <td>...</td>\n",
       "      <td>0.000069</td>\n",
       "      <td>121.779978</td>\n",
       "      <td>113.210227</td>\n",
       "      <td>130.192427</td>\n",
       "      <td>76.662263</td>\n",
       "      <td>71.161397</td>\n",
       "      <td>82.116525</td>\n",
       "      <td>0.259259</td>\n",
       "      <td>0.165976</td>\n",
       "      <td>0.370139</td>\n",
       "    </tr>\n",
       "    <tr>\n",
       "      <th>1</th>\n",
       "      <td>Afghanistan</td>\n",
       "      <td>AFG</td>\n",
       "      <td>Men</td>\n",
       "      <td>1981</td>\n",
       "      <td>0.046114</td>\n",
       "      <td>0.016883</td>\n",
       "      <td>0.093777</td>\n",
       "      <td>19.637998</td>\n",
       "      <td>17.232367</td>\n",
       "      <td>22.088491</td>\n",
       "      <td>...</td>\n",
       "      <td>0.000076</td>\n",
       "      <td>121.924842</td>\n",
       "      <td>113.644684</td>\n",
       "      <td>130.108549</td>\n",
       "      <td>76.753616</td>\n",
       "      <td>71.390596</td>\n",
       "      <td>82.029064</td>\n",
       "      <td>0.261067</td>\n",
       "      <td>0.170775</td>\n",
       "      <td>0.367569</td>\n",
       "    </tr>\n",
       "    <tr>\n",
       "      <th>2</th>\n",
       "      <td>Afghanistan</td>\n",
       "      <td>AFG</td>\n",
       "      <td>Men</td>\n",
       "      <td>1982</td>\n",
       "      <td>0.047601</td>\n",
       "      <td>0.018745</td>\n",
       "      <td>0.094018</td>\n",
       "      <td>19.741670</td>\n",
       "      <td>17.357383</td>\n",
       "      <td>22.164497</td>\n",
       "      <td>...</td>\n",
       "      <td>0.000083</td>\n",
       "      <td>122.073346</td>\n",
       "      <td>113.918442</td>\n",
       "      <td>130.066324</td>\n",
       "      <td>76.846447</td>\n",
       "      <td>71.554908</td>\n",
       "      <td>81.950016</td>\n",
       "      <td>0.262912</td>\n",
       "      <td>0.174699</td>\n",
       "      <td>0.364517</td>\n",
       "    </tr>\n",
       "    <tr>\n",
       "      <th>3</th>\n",
       "      <td>Afghanistan</td>\n",
       "      <td>AFG</td>\n",
       "      <td>Men</td>\n",
       "      <td>1983</td>\n",
       "      <td>0.049173</td>\n",
       "      <td>0.020375</td>\n",
       "      <td>0.093950</td>\n",
       "      <td>19.843253</td>\n",
       "      <td>17.486672</td>\n",
       "      <td>22.266846</td>\n",
       "      <td>...</td>\n",
       "      <td>0.000093</td>\n",
       "      <td>122.224822</td>\n",
       "      <td>114.322121</td>\n",
       "      <td>130.152197</td>\n",
       "      <td>76.939638</td>\n",
       "      <td>71.770334</td>\n",
       "      <td>81.920172</td>\n",
       "      <td>0.264802</td>\n",
       "      <td>0.178516</td>\n",
       "      <td>0.363599</td>\n",
       "    </tr>\n",
       "    <tr>\n",
       "      <th>4</th>\n",
       "      <td>Afghanistan</td>\n",
       "      <td>AFG</td>\n",
       "      <td>Men</td>\n",
       "      <td>1984</td>\n",
       "      <td>0.050834</td>\n",
       "      <td>0.022269</td>\n",
       "      <td>0.093679</td>\n",
       "      <td>19.943436</td>\n",
       "      <td>17.650170</td>\n",
       "      <td>22.328421</td>\n",
       "      <td>...</td>\n",
       "      <td>0.000104</td>\n",
       "      <td>122.376956</td>\n",
       "      <td>114.549692</td>\n",
       "      <td>130.312049</td>\n",
       "      <td>77.032372</td>\n",
       "      <td>71.954991</td>\n",
       "      <td>81.872425</td>\n",
       "      <td>0.266719</td>\n",
       "      <td>0.181058</td>\n",
       "      <td>0.362819</td>\n",
       "    </tr>\n",
       "  </tbody>\n",
       "</table>\n",
       "<p>5 rows × 46 columns</p>\n",
       "</div>"
      ],
      "text/plain": [
       "  Country/Region/World  ISO  Sex  Year  Age-standardised diabetes prevalence  \\\n",
       "0          Afghanistan  AFG  Men  1980                              0.044712   \n",
       "1          Afghanistan  AFG  Men  1981                              0.046114   \n",
       "2          Afghanistan  AFG  Men  1982                              0.047601   \n",
       "3          Afghanistan  AFG  Men  1983                              0.049173   \n",
       "4          Afghanistan  AFG  Men  1984                              0.050834   \n",
       "\n",
       "   Lower 95% uncertainty interval  Upper 95% uncertainty interval   Mean BMI  \\\n",
       "0                        0.015339                        0.094918  19.532923   \n",
       "1                        0.016883                        0.093777  19.637998   \n",
       "2                        0.018745                        0.094018  19.741670   \n",
       "3                        0.020375                        0.093950  19.843253   \n",
       "4                        0.022269                        0.093679  19.943436   \n",
       "\n",
       "   Mean BMI lower 95% uncertainty interval  \\\n",
       "0                                17.107774   \n",
       "1                                17.232367   \n",
       "2                                17.357383   \n",
       "3                                17.486672   \n",
       "4                                17.650170   \n",
       "\n",
       "   Mean BMI upper 95% uncertainty interval  ...  \\\n",
       "0                                22.010869  ...   \n",
       "1                                22.088491  ...   \n",
       "2                                22.164497  ...   \n",
       "3                                22.266846  ...   \n",
       "4                                22.328421  ...   \n",
       "\n",
       "   Prevalence of BMI >=40 kg/m² upper 95% uncertainty interval  \\\n",
       "0                                           0.000069             \n",
       "1                                           0.000076             \n",
       "2                                           0.000083             \n",
       "3                                           0.000093             \n",
       "4                                           0.000104             \n",
       "\n",
       "   Mean systolic blood pressure (mmHg)  \\\n",
       "0                           121.779978   \n",
       "1                           121.924842   \n",
       "2                           122.073346   \n",
       "3                           122.224822   \n",
       "4                           122.376956   \n",
       "\n",
       "   Mean systolic blood pressure lower 95% uncertainty interval (mmHg)  \\\n",
       "0                                         113.210227                    \n",
       "1                                         113.644684                    \n",
       "2                                         113.918442                    \n",
       "3                                         114.322121                    \n",
       "4                                         114.549692                    \n",
       "\n",
       "   Mean systolic blood pressure upper 95% uncertainty interval (mmHg)  \\\n",
       "0                                         130.192427                    \n",
       "1                                         130.108549                    \n",
       "2                                         130.066324                    \n",
       "3                                         130.152197                    \n",
       "4                                         130.312049                    \n",
       "\n",
       "   Mean diastolic blood pressure (mmHg)  \\\n",
       "0                             76.662263   \n",
       "1                             76.753616   \n",
       "2                             76.846447   \n",
       "3                             76.939638   \n",
       "4                             77.032372   \n",
       "\n",
       "   Mean diastolic blood pressure lower 95% uncertainty interval (mmHg)  \\\n",
       "0                                          71.161397                     \n",
       "1                                          71.390596                     \n",
       "2                                          71.554908                     \n",
       "3                                          71.770334                     \n",
       "4                                          71.954991                     \n",
       "\n",
       "   Mean diastolic blood pressure upper 95% uncertainty interval (mmHg)  \\\n",
       "0                                          82.116525                     \n",
       "1                                          82.029064                     \n",
       "2                                          81.950016                     \n",
       "3                                          81.920172                     \n",
       "4                                          81.872425                     \n",
       "\n",
       "   Prevalence of raised blood pressure  \\\n",
       "0                             0.259259   \n",
       "1                             0.261067   \n",
       "2                             0.262912   \n",
       "3                             0.264802   \n",
       "4                             0.266719   \n",
       "\n",
       "   Prevalence of raised blood pressure lower 95% uncertainty interval  \\\n",
       "0                                           0.165976                    \n",
       "1                                           0.170775                    \n",
       "2                                           0.174699                    \n",
       "3                                           0.178516                    \n",
       "4                                           0.181058                    \n",
       "\n",
       "   Prevalence of raised blood pressure upper 95% uncertainty interval  \n",
       "0                                           0.370139                   \n",
       "1                                           0.367569                   \n",
       "2                                           0.364517                   \n",
       "3                                           0.363599                   \n",
       "4                                           0.362819                   \n",
       "\n",
       "[5 rows x 46 columns]"
      ]
     },
     "execution_count": 10,
     "metadata": {},
     "output_type": "execute_result"
    }
   ],
   "source": [
    "df_allData.head()"
   ]
  },
  {
   "cell_type": "code",
   "execution_count": 11,
   "metadata": {},
   "outputs": [],
   "source": [
    "df_tmp = df_allData.groupby(['Year']).get_group(2014)\n"
   ]
  },
  {
   "cell_type": "code",
   "execution_count": 12,
   "metadata": {},
   "outputs": [],
   "source": [
    "df_tmp = df_tmp.groupby('Sex').get_group('Men')"
   ]
  },
  {
   "cell_type": "code",
   "execution_count": 13,
   "metadata": {},
   "outputs": [],
   "source": [
    "df_tmp = df_tmp[['ISO','Age-standardised diabetes prevalence','Mean BMI']]"
   ]
  },
  {
   "cell_type": "code",
   "execution_count": 14,
   "metadata": {},
   "outputs": [],
   "source": [
    "indicators = indicators.groupby('Year').get_group(2014)"
   ]
  },
  {
   "cell_type": "code",
   "execution_count": 15,
   "metadata": {},
   "outputs": [],
   "source": [
    "df_tmp = df_tmp.merge(indicators,on='ISO')"
   ]
  },
  {
   "cell_type": "code",
   "execution_count": 19,
   "metadata": {},
   "outputs": [
    {
     "data": {
      "text/plain": [
       "<matplotlib.axes._subplots.AxesSubplot at 0x1a1eb78320>"
      ]
     },
     "execution_count": 19,
     "metadata": {},
     "output_type": "execute_result"
    },
    {
     "data": {
      "image/png": "[encoded data removed]",
      "text/plain": [
       "<Figure size 432x288 with 1 Axes>"
      ]
     },
     "metadata": {},
     "output_type": "display_data"
    }
   ],
   "source": [
    "sns.boxplot(df_allData['Year'],df_allData['Mean BMI'],orient='v')"
   ]
  },
  {
   "cell_type": "code",
   "execution_count": 11,
   "metadata": {},
   "outputs": [
    {
     "data": {
      "text/plain": [
       "Text(0.5, 1.0, '2014 - mobile phone subscriptions per 100 people')"
      ]
     },
     "execution_count": 11,
     "metadata": {},
     "output_type": "execute_result"
    },
    {
     "data": {
      "image/png": "[encoded data removed]",
      "text/plain": [
       "<Figure size 576x432 with 1 Axes>"
      ]
     },
     "metadata": {
      "needs_background": "light"
     },
     "output_type": "display_data"
    }
   ],
   "source": [
    "fig, axes = plt.subplots(figsize=(8,6))\n",
    "sns.scatterplot(ax=axes,legend='brief', x=\"Mean BMI\",y=\"Age-standardised diabetes prevalence\",\n",
    "                hue=\"IT.CEL.SETS.P2\",data=df_tmp)\n",
    "plt.ylabel(\"% Diabetes\")\n",
    "plt.title(f\"2014 - {titles['IT.CEL.SETS.P2']}\")\n"
   ]
  },
  {
   "cell_type": "code",
   "execution_count": 12,
   "metadata": {},
   "outputs": [
    {
     "data": {
      "image/png": "[encoded data removed]",
      "text/plain": [
       "<Figure size 576x432 with 1 Axes>"
      ]
     },
     "metadata": {
      "needs_background": "light"
     },
     "output_type": "display_data"
    }
   ],
   "source": [
    "fig, axes = plt.subplots(figsize=(8,6))\n",
    "sns.scatterplot(ax=axes,legend=\"brief\", x=\"Mean BMI\",y=\"Age-standardised diabetes prevalence\",\n",
    "                hue=\"EG.ELC.ACCS.ZS\",data=df_tmp)\n",
    "plt.ylabel(\"% Diabetes\")\n",
    "plt.title(f\"2014 - {titles['EG.ELC.ACCS.ZS']}\")"
   ]
  },
  {
   "cell_type": "code",
   "execution_count": 13,
   "metadata": {},
   "outputs": [],
   "source": [
    "df_tmp['IQ.CPA.PROP.XQ']=df_tmp['IQ.CPA.PROP.XQ'].replace(r'\\s+',np.nan, regex=True)"
   ]
  },
  {
   "cell_type": "code",
   "execution_count": 14,
   "metadata": {},
   "outputs": [
    {
     "data": {
      "text/plain": [
       "0    1.5\n",
       "1    NaN\n",
       "2    NaN\n",
       "3    NaN\n",
       "4    NaN\n",
       "Name: IQ.CPA.PROP.XQ, dtype: float64"
      ]
     },
     "execution_count": 14,
     "metadata": {},
     "output_type": "execute_result"
    }
   ],
   "source": [
    "df_tmp['IQ.CPA.PROP.XQ'].head()"
   ]
  },
  {
   "cell_type": "code",
   "execution_count": 15,
   "metadata": {},
   "outputs": [
    {
     "data": {
      "text/plain": [
       "Text(0.5, 1.0, '2014 - CPIA property rights and rule-based governance rating (1=low to 6=high)')"
      ]
     },
     "execution_count": 15,
     "metadata": {},
     "output_type": "execute_result"
    },
    {
     "data": {
      "image/png": "[encoded data removed]",
      "text/plain": [
       "<Figure size 576x432 with 1 Axes>"
      ]
     },
     "metadata": {
      "needs_background": "light"
     },
     "output_type": "display_data"
    }
   ],
   "source": [
    "fig, axes = plt.subplots(figsize=(8,6))\n",
    "sns.scatterplot(ax=axes, legend=\"brief\", x=\"Mean BMI\",y=\"Age-standardised diabetes prevalence\",\n",
    "                hue=\"IQ.CPA.PROP.XQ\",data=df_tmp)\n",
    "plt.ylabel(\"% Diabetes\")\n",
    "plt.title(f\"2014 - {titles['IQ.CPA.PROP.XQ']}\")"
   ]
  },
  {
   "cell_type": "code",
   "execution_count": 35,
   "metadata": {},
   "outputs": [],
   "source": [
    "hdi = pd.read_csv('data/Human development index (HDI).csv',encoding='iso-8859-1',)\n"
   ]
  },
  {
   "cell_type": "code",
   "execution_count": 36,
   "metadata": {},
   "outputs": [
    {
     "data": {
      "text/plain": [
       "Index(['HDI Rank (2017)', 'Country', '1990', '1991', '1992', '1993', '1994',\n",
       "       '1995', '1996', '1997', '1998', '1999', '2000', '2001', '2002', '2003',\n",
       "       '2004', '2005', '2006', '2007', '2008', '2009', '2010', '2011', '2012',\n",
       "       '2013', '2014', '2015', '2016', '2017'],\n",
       "      dtype='object')"
      ]
     },
     "execution_count": 36,
     "metadata": {},
     "output_type": "execute_result"
    }
   ],
   "source": [
    "hdi.columns"
   ]
  },
  {
   "cell_type": "code",
   "execution_count": 42,
   "metadata": {},
   "outputs": [],
   "source": [
    "hdi['Country'] = hdi['Country'].apply(str.strip)"
   ]
  },
  {
   "cell_type": "code",
   "execution_count": 43,
   "metadata": {},
   "outputs": [],
   "source": [
    "hdi.sort_values('Country', inplace=True)"
   ]
  },
  {
   "cell_type": "code",
   "execution_count": 44,
   "metadata": {},
   "outputs": [],
   "source": [
    "codes = pd.read_csv('data/countries_codes_and_coordinates.csv')"
   ]
  },
  {
   "cell_type": "code",
   "execution_count": 46,
   "metadata": {},
   "outputs": [],
   "source": [
    "codes=codes[['Country', 'Alpha-3 code']]"
   ]
  },
  {
   "cell_type": "code",
   "execution_count": 47,
   "metadata": {},
   "outputs": [
    {
     "data": {
      "text/plain": [
       "(256, 2)"
      ]
     },
     "execution_count": 47,
     "metadata": {},
     "output_type": "execute_result"
    }
   ],
   "source": [
    "codes.shape"
   ]
  },
  {
   "cell_type": "code",
   "execution_count": 50,
   "metadata": {},
   "outputs": [],
   "source": [
    "hdi = hdi.merge(codes, on='Country')"
   ]
  },
  {
   "cell_type": "code",
   "execution_count": 90,
   "metadata": {},
   "outputs": [],
   "source": [
    "hdi_years = [ '1990', '1991', '1992', '1993', '1994',\n",
    "       '1995', '1996', '1997', '1998', '1999', '2000', '2001', '2002', '2003',\n",
    "       '2004', '2005', '2006', '2007', '2008', '2009', '2010', '2011', '2012',\n",
    "       '2013', '2014', '2015', '2016', '2017']\n",
    "hdi_col = hdi.melt(value_vars= hdi_years, id_vars=['Country','Alpha-3 code','HDI Rank (2017)'])"
   ]
  },
  {
   "cell_type": "code",
   "execution_count": 91,
   "metadata": {},
   "outputs": [],
   "source": [
    "hdi_col.columns=['Country','ISO','HDIrank2017','Year','HDIvalue']"
   ]
  },
  {
   "cell_type": "code",
   "execution_count": 109,
   "metadata": {},
   "outputs": [
    {
     "data": {
      "text/html": [
       "<div>\n",
       "<style scoped>\n",
       "    .dataframe tbody tr th:only-of-type {\n",
       "        vertical-align: middle;\n",
       "    }\n",
       "\n",
       "    .dataframe tbody tr th {\n",
       "        vertical-align: top;\n",
       "    }\n",
       "\n",
       "    .dataframe thead th {\n",
       "        text-align: right;\n",
       "    }\n",
       "</style>\n",
       "<table border=\"1\" class=\"dataframe\">\n",
       "  <thead>\n",
       "    <tr style=\"text-align: right;\">\n",
       "      <th></th>\n",
       "      <th>HDI 1990</th>\n",
       "    </tr>\n",
       "  </thead>\n",
       "  <tbody>\n",
       "    <tr>\n",
       "      <th>0.2</th>\n",
       "      <td>0.4126</td>\n",
       "    </tr>\n",
       "    <tr>\n",
       "      <th>0.4</th>\n",
       "      <td>0.5804</td>\n",
       "    </tr>\n",
       "    <tr>\n",
       "      <th>0.6</th>\n",
       "      <td>0.6712</td>\n",
       "    </tr>\n",
       "    <tr>\n",
       "      <th>0.8</th>\n",
       "      <td>0.7448</td>\n",
       "    </tr>\n",
       "  </tbody>\n",
       "</table>\n",
       "</div>"
      ],
      "text/plain": [
       "     HDI 1990\n",
       "0.2    0.4126\n",
       "0.4    0.5804\n",
       "0.6    0.6712\n",
       "0.8    0.7448"
      ]
     },
     "execution_count": 109,
     "metadata": {},
     "output_type": "execute_result"
    }
   ],
   "source": [
    "hdi_quint = {}\n",
    "\n",
    "for y in hdi_years:\n",
    "    #print(type(y))\n",
    "    tmp = hdi_col.groupby(['Year']).get_group(y)\n",
    "    tmp = tmp[['HDIvalue']]\n",
    "    tmp.columns=[f'HDI {y}']\n",
    "    hdi_quint[y] = tmp.sort_values(f'HDI {y}',ascending=True).quantile([0.2,0.4,0.6, 0.8])\n",
    "    \n",
    "hdi_quint['1990']"
   ]
  },
  {
   "cell_type": "code",
   "execution_count": 110,
   "metadata": {},
   "outputs": [
    {
     "name": "stdout",
     "output_type": "stream",
     "text": [
      "     HDI 1990  bin\n",
      "0.2    0.4126  1.0\n",
      "0.4    0.5804  2.0\n",
      "0.6    0.6712  3.0\n",
      "0.8    0.7448  4.0\n",
      "     HDI 1991  bin\n",
      "0.2    0.4182  1.0\n",
      "0.4    0.5846  2.0\n",
      "0.6    0.6660  3.0\n",
      "0.8    0.7486  4.0\n",
      "     HDI 1992  bin\n",
      "0.2     0.414  1.0\n",
      "0.4     0.587  2.0\n",
      "0.6     0.664  3.0\n",
      "0.8     0.753  4.0\n",
      "     HDI 1993  bin\n",
      "0.2    0.4212  1.0\n",
      "0.4    0.5890  2.0\n",
      "0.6    0.6694  3.0\n",
      "0.8    0.7632  4.0\n",
      "     HDI 1994  bin\n",
      "0.2    0.4242  1.0\n",
      "0.4    0.5950  2.0\n",
      "0.6    0.6710  3.0\n",
      "0.8    0.7678  4.0\n",
      "     HDI 1995  bin\n",
      "0.2    0.4280  1.0\n",
      "0.4    0.5988  2.0\n",
      "0.6    0.6730  3.0\n",
      "0.8    0.7720  4.0\n",
      "     HDI 1996  bin\n",
      "0.2    0.4346  1.0\n",
      "0.4    0.6068  2.0\n",
      "0.6    0.6788  3.0\n",
      "0.8    0.7768  4.0\n",
      "     HDI 1997  bin\n",
      "0.2    0.4432  1.0\n",
      "0.4    0.6134  2.0\n",
      "0.6    0.6866  3.0\n",
      "0.8    0.7788  4.0\n",
      "     HDI 1998  bin\n",
      "0.2    0.4512  1.0\n",
      "0.4    0.6178  2.0\n",
      "0.6    0.6918  3.0\n",
      "0.8    0.7866  4.0\n",
      "     HDI 1999  bin\n",
      "0.2    0.4450  1.0\n",
      "0.4    0.6062  2.0\n",
      "0.6    0.6866  3.0\n",
      "0.8    0.7894  4.0\n",
      "     HDI 2000  bin\n",
      "0.2    0.4496  1.0\n",
      "0.4    0.6118  2.0\n",
      "0.6    0.6892  3.0\n",
      "0.8    0.7854  4.0\n",
      "     HDI 2001  bin\n",
      "0.2    0.4556  1.0\n",
      "0.4    0.6144  2.0\n",
      "0.6    0.6960  3.0\n",
      "0.8    0.7904  4.0\n",
      "     HDI 2002  bin\n",
      "0.2     0.457  1.0\n",
      "0.4     0.618  2.0\n",
      "0.6     0.698  3.0\n",
      "0.8     0.792  4.0\n",
      "     HDI 2003  bin\n",
      "0.2    0.4642  1.0\n",
      "0.4    0.6238  2.0\n",
      "0.6    0.7062  3.0\n",
      "0.8    0.8024  4.0\n",
      "     HDI 2004  bin\n",
      "0.2    0.4690  1.0\n",
      "0.4    0.6350  2.0\n",
      "0.6    0.7138  3.0\n",
      "0.8    0.8034  4.0\n",
      "     HDI 2005  bin\n",
      "0.2    0.4774  1.0\n",
      "0.4    0.6344  2.0\n",
      "0.6    0.7262  3.0\n",
      "0.8    0.8072  4.0\n",
      "     HDI 2006  bin\n",
      "0.2    0.4844  1.0\n",
      "0.4    0.6430  2.0\n",
      "0.6    0.7270  3.0\n",
      "0.8    0.8134  4.0\n",
      "     HDI 2007  bin\n",
      "0.2    0.4932  1.0\n",
      "0.4    0.6504  2.0\n",
      "0.6    0.7342  3.0\n",
      "0.8    0.8188  4.0\n",
      "     HDI 2008  bin\n",
      "0.2    0.5022  1.0\n",
      "0.4    0.6550  2.0\n",
      "0.6    0.7380  3.0\n",
      "0.8    0.8236  4.0\n",
      "     HDI 2009  bin\n",
      "0.2    0.5108  1.0\n",
      "0.4    0.6590  2.0\n",
      "0.6    0.7400  3.0\n",
      "0.8    0.8236  4.0\n",
      "     HDI 2010  bin\n",
      "0.2    0.5200  1.0\n",
      "0.4    0.6650  2.0\n",
      "0.6    0.7434  3.0\n",
      "0.8    0.8246  4.0\n",
      "     HDI 2011  bin\n",
      "0.2    0.5294  1.0\n",
      "0.4    0.6700  2.0\n",
      "0.6    0.7510  3.0\n",
      "0.8    0.8276  4.0\n",
      "     HDI 2012  bin\n",
      "0.2    0.5320  1.0\n",
      "0.4    0.6778  2.0\n",
      "0.6    0.7562  3.0\n",
      "0.8    0.8356  4.0\n",
      "     HDI 2013  bin\n",
      "0.2    0.5384  1.0\n",
      "0.4    0.6866  2.0\n",
      "0.6    0.7574  3.0\n",
      "0.8    0.8440  4.0\n",
      "     HDI 2014  bin\n",
      "0.2    0.5450  1.0\n",
      "0.4    0.6922  2.0\n",
      "0.6    0.7634  3.0\n",
      "0.8    0.8486  4.0\n",
      "     HDI 2015  bin\n",
      "0.2    0.5468  1.0\n",
      "0.4    0.6938  2.0\n",
      "0.6    0.7678  3.0\n",
      "0.8    0.8520  4.0\n",
      "     HDI 2016  bin\n",
      "0.2    0.5470  1.0\n",
      "0.4    0.6960  2.0\n",
      "0.6    0.7724  3.0\n",
      "0.8    0.8536  4.0\n",
      "     HDI 2017  bin\n",
      "0.2    0.5520  1.0\n",
      "0.4    0.7020  2.0\n",
      "0.6    0.7736  3.0\n",
      "0.8    0.8538  4.0\n"
     ]
    }
   ],
   "source": [
    "\n",
    "for y in hdi_years:\n",
    "    hdi_quint[y]['bin']= 10 * (hdi_quint[y].index) / 2\n",
    "    print(hdi_quint[y])"
   ]
  },
  {
   "cell_type": "code",
   "execution_count": null,
   "metadata": {},
   "outputs": [],
   "source": []
  },
  {
   "cell_type": "code",
   "execution_count": 83,
   "metadata": {},
   "outputs": [
    {
     "data": {
      "text/plain": [
       "4524    0.494\n",
       "4525    0.782\n",
       "4526    0.753\n",
       "4527    0.856\n",
       "4528    0.577\n",
       "4529    0.778\n",
       "4530    0.822\n",
       "4531    0.749\n",
       "4532    0.938\n",
       "4533    0.906\n",
       "4534    0.757\n",
       "4535    0.806\n",
       "4536    0.846\n",
       "4537    0.597\n",
       "4538    0.799\n",
       "4539    0.805\n",
       "4540    0.915\n",
       "4541    0.709\n",
       "4542    0.512\n",
       "4543    0.609\n",
       "4544    0.766\n",
       "4545    0.712\n",
       "4546    0.758\n",
       "4547    0.852\n",
       "4548    0.810\n",
       "4549    0.420\n",
       "4550    0.418\n",
       "4551    0.576\n",
       "4552    0.553\n",
       "4553    0.922\n",
       "        ...  \n",
       "4668    0.543\n",
       "4669    0.696\n",
       "4670    0.889\n",
       "4671    0.768\n",
       "4672    0.499\n",
       "4673    0.719\n",
       "4674    0.932\n",
       "4675    0.943\n",
       "4676    0.536\n",
       "4677    0.647\n",
       "4678    0.748\n",
       "4679    0.631\n",
       "4680    0.500\n",
       "4681    0.724\n",
       "4682    0.785\n",
       "4683    0.732\n",
       "4684    0.787\n",
       "4685    0.705\n",
       "4686    0.508\n",
       "4687    0.746\n",
       "4688    0.862\n",
       "4689    0.920\n",
       "4690    0.922\n",
       "4691    0.802\n",
       "4692    0.703\n",
       "4693    0.600\n",
       "4694    0.689\n",
       "4695    0.462\n",
       "4696    0.586\n",
       "4697    0.532\n",
       "Name: HDIvalue, Length: 174, dtype: float64"
      ]
     },
     "execution_count": 83,
     "metadata": {},
     "output_type": "execute_result"
    }
   ],
   "source": [
    "hdi_1990['HDIvalue']"
   ]
  },
  {
   "cell_type": "markdown",
   "metadata": {},
   "source": [
    "- HDI quintiles over time\n",
    "- HDI quintile factor added to groups\n",
    "- "
   ]
  }
 ],
 "metadata": {
  "kernelspec": {
   "display_name": "Python 3",
   "language": "python",
   "name": "python3"
  },
  "language_info": {
   "codemirror_mode": {
    "name": "ipython",
    "version": 3
   },
   "file_extension": ".py",
   "mimetype": "text/x-python",
   "name": "python",
   "nbconvert_exporter": "python",
   "pygments_lexer": "ipython3",
   "version": "3.7.3"
  }
 },
 "nbformat": 4,
 "nbformat_minor": 2
}
