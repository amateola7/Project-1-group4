{
 "cells": [
  {
   "cell_type": "code",
   "execution_count": 6,
   "metadata": {},
   "outputs": [
    {
     "data": {
      "text/html": [
       "<div>\n",
       "<style scoped>\n",
       "    .dataframe tbody tr th:only-of-type {\n",
       "        vertical-align: middle;\n",
       "    }\n",
       "\n",
       "    .dataframe tbody tr th {\n",
       "        vertical-align: top;\n",
       "    }\n",
       "\n",
       "    .dataframe thead th {\n",
       "        text-align: right;\n",
       "    }\n",
       "</style>\n",
       "<table border=\"1\" class=\"dataframe\">\n",
       "  <thead>\n",
       "    <tr style=\"text-align: right;\">\n",
       "      <th></th>\n",
       "      <th>Country</th>\n",
       "      <th>ISO</th>\n",
       "      <th>Sex</th>\n",
       "      <th>Year of birth</th>\n",
       "      <th>Mean height (cm)</th>\n",
       "      <th>Mean height lower 95% uncertainty interval (cm)</th>\n",
       "      <th>Mean height upper 95% uncertainty interval (cm)</th>\n",
       "    </tr>\n",
       "  </thead>\n",
       "  <tbody>\n",
       "    <tr>\n",
       "      <th>0</th>\n",
       "      <td>United States of America</td>\n",
       "      <td>USA</td>\n",
       "      <td>Men</td>\n",
       "      <td>1896</td>\n",
       "      <td>171.079272</td>\n",
       "      <td>169.888133</td>\n",
       "      <td>172.260045</td>\n",
       "    </tr>\n",
       "    <tr>\n",
       "      <th>1</th>\n",
       "      <td>United States of America</td>\n",
       "      <td>USA</td>\n",
       "      <td>Men</td>\n",
       "      <td>1897</td>\n",
       "      <td>171.179657</td>\n",
       "      <td>170.067661</td>\n",
       "      <td>172.293362</td>\n",
       "    </tr>\n",
       "    <tr>\n",
       "      <th>2</th>\n",
       "      <td>United States of America</td>\n",
       "      <td>USA</td>\n",
       "      <td>Men</td>\n",
       "      <td>1898</td>\n",
       "      <td>171.280292</td>\n",
       "      <td>170.227214</td>\n",
       "      <td>172.325284</td>\n",
       "    </tr>\n",
       "    <tr>\n",
       "      <th>3</th>\n",
       "      <td>United States of America</td>\n",
       "      <td>USA</td>\n",
       "      <td>Men</td>\n",
       "      <td>1899</td>\n",
       "      <td>171.381148</td>\n",
       "      <td>170.392335</td>\n",
       "      <td>172.372466</td>\n",
       "    </tr>\n",
       "    <tr>\n",
       "      <th>4</th>\n",
       "      <td>United States of America</td>\n",
       "      <td>USA</td>\n",
       "      <td>Men</td>\n",
       "      <td>1900</td>\n",
       "      <td>171.482114</td>\n",
       "      <td>170.536632</td>\n",
       "      <td>172.430823</td>\n",
       "    </tr>\n",
       "  </tbody>\n",
       "</table>\n",
       "</div>"
      ],
      "text/plain": [
       "                    Country  ISO  Sex  Year of birth  Mean height (cm)  \\\n",
       "0  United States of America  USA  Men           1896        171.079272   \n",
       "1  United States of America  USA  Men           1897        171.179657   \n",
       "2  United States of America  USA  Men           1898        171.280292   \n",
       "3  United States of America  USA  Men           1899        171.381148   \n",
       "4  United States of America  USA  Men           1900        171.482114   \n",
       "\n",
       "   Mean height lower 95% uncertainty interval (cm)  \\\n",
       "0                                       169.888133   \n",
       "1                                       170.067661   \n",
       "2                                       170.227214   \n",
       "3                                       170.392335   \n",
       "4                                       170.536632   \n",
       "\n",
       "   Mean height upper 95% uncertainty interval (cm)  \n",
       "0                                       172.260045  \n",
       "1                                       172.293362  \n",
       "2                                       172.325284  \n",
       "3                                       172.372466  \n",
       "4                                       172.430823  "
      ]
     },
     "execution_count": 6,
     "metadata": {},
     "output_type": "execute_result"
    }
   ],
   "source": [
    "import numpy as np\n",
    "import pandas as pd\n",
    "import matplotlib.pyplot as plt\n",
    "import seaborn as sns\n",
    "import requests\n",
    "import json\n",
    "sns.set()\n",
    "bmi_data = pd.read_csv(\"data/BMI-USA.csv\",encoding='iso-8859-1') \n",
    "diabetes_data = pd.read_csv(\"data/diabetes-USA.csv\")\n",
    "height_data = pd.read_csv(\"data/height-USA.csv\")\n",
    "BP_data = pd.read_csv(\"data/BP-USA.csv\")\n",
    "height_data.head()"
   ]
  },
  {
   "cell_type": "code",
   "execution_count": 12,
   "metadata": {},
   "outputs": [
    {
     "data": {
      "text/plain": [
       "168.34434603861382"
      ]
     },
     "execution_count": 12,
     "metadata": {},
     "output_type": "execute_result"
    }
   ],
   "source": [
    "height_data[\"Mean height lower 95% uncertainty interval (cm)\"].mean()\n"
   ]
  },
  {
   "cell_type": "code",
   "execution_count": null,
   "metadata": {},
   "outputs": [],
   "source": []
  },
  {
   "cell_type": "code",
   "execution_count": null,
   "metadata": {},
   "outputs": [],
   "source": []
  },
  {
   "cell_type": "code",
   "execution_count": null,
   "metadata": {},
   "outputs": [],
   "source": []
  },
  {
   "cell_type": "code",
   "execution_count": null,
   "metadata": {},
   "outputs": [],
   "source": []
  }
 ],
 "metadata": {
  "kernelspec": {
   "display_name": "Python 3",
   "language": "python",
   "name": "python3"
  },
  "language_info": {
   "codemirror_mode": {
    "name": "ipython",
    "version": 3
   },
   "file_extension": ".py",
   "mimetype": "text/x-python",
   "name": "python",
   "nbconvert_exporter": "python",
   "pygments_lexer": "ipython3",
   "version": "3.7.1"
  }
 },
 "nbformat": 4,
 "nbformat_minor": 2
}
